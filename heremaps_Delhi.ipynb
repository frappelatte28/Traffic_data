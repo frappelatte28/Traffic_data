{
 "cells": [
  {
   "cell_type": "code",
   "execution_count": 1,
   "metadata": {},
   "outputs": [],
   "source": [
    "%matplotlib inline\n",
    "from matplotlib import pyplot as plt\n",
    "import numpy as np\n",
    "import matplotlib.cm as cm\n",
    "import requests\n",
    "#import dill\n",
    "from bs4 import BeautifulSoup\n",
    "#from datetime import datetime\n",
    "import xml.etree.ElementTree as ET\n",
    "from xml.etree.ElementTree import XML, fromstring, tostring\n",
    "# from apscheduler.schedulers.blocking import BlockingScheduler\n",
    "from datetime import datetime, timedelta\n",
    "import time\n",
    "import os"
   ]
  },
  {
   "cell_type": "code",
   "execution_count": 2,
   "metadata": {},
   "outputs": [],
   "source": [
    "def getTime():\n",
    "    now = datetime.now()\n",
    "    current_time = now.strftime(\"%d%b%Y_%H-%M\")\n",
    "    return current_time\n",
    "getTime()\n",
    "my_path = os.path.abspath(\"cycleTrackImages_Delhi/\")"
   ]
  },
  {
   "cell_type": "code",
   "execution_count": null,
   "metadata": {},
   "outputs": [],
   "source": [
    "font = {'family': 'serif',\n",
    "        'color':  'yellow',\n",
    "        'weight': 'normal',\n",
    "        'size': 18,\n",
    "        }\n",
    "\n",
    "def fun():        \n",
    "    page = requests.get('https://traffic.api.here.com/traffic/6.2/flow.xml?app_id=wvzQzqmPlU1T9tjf0YLU&app_code=b_is4SmSRfh8e0-Mr2-low&bbox=28.548337, 77.057345;28.751634, 77.383885&responseattributes=sh,fc&units=metric')\n",
    "    soup = BeautifulSoup(page.text, \"lxml\")\n",
    "    roads = soup.find_all('fi')\n",
    "    a1=[]\n",
    "    loc_list_hv=[]\n",
    "    lats=[]\n",
    "    longs=[]\n",
    "    sus=[]\n",
    "    ffs=[]\n",
    "    c=0\n",
    "    for road in roads:\n",
    "        #for j in range(0,len(shps)):\n",
    "        myxml = fromstring(str(road))\n",
    "        fc=5\n",
    "        for child in myxml:\n",
    "            #print(child.tag, child.attrib)\n",
    "            if('fc' in child.attrib):\n",
    "                fc=int(child.attrib['fc'])\n",
    "            if('cn' in child.attrib):\n",
    "                cn=float(child.attrib['cn'])\n",
    "            if('su' in child.attrib):\n",
    "                su=float(child.attrib['su'])\n",
    "            if('ff' in child.attrib):\n",
    "                ff=float(child.attrib['ff'])\n",
    "        if((fc<=3) and (cn>=0.7)):\n",
    "            shps=road.find_all(\"shp\")\n",
    "            for j in range(0,len(shps)):\n",
    "                latlong=shps[j].text.replace(',',' ').split()\n",
    "                #loc_list=[]\n",
    "                la=[]\n",
    "                lo=[]\n",
    "                su1=[]\n",
    "                ff1=[] \n",
    "                for i in range(0,int(len(latlong)/2)):\n",
    "                    loc_list_hv.append([float(latlong[2*i]),float(latlong[2*i+1]),float(su),float(ff)])\n",
    "                    la.append(float(latlong[2*i]))\n",
    "                    lo.append(float(latlong[2*i+1]))\n",
    "                    su1.append(float(su))\n",
    "                    ff1.append(float(ff))\n",
    "                lats.append(la)\n",
    "                longs.append(lo)\n",
    "                sus.append(np.mean(su1))\n",
    "                ffs.append(np.mean(ff1))\n",
    "    fig=plt.figure(figsize=(19.20,10.80))\n",
    "    # plt.style.use('dark_background')\n",
    "    plt.rcParams['axes.facecolor'] = 'black'\n",
    "    #plt.plot(np.linspace(0,10,10),np.linspace(0,10,10))\n",
    "    plt.grid(False)\n",
    "    for i in range(0,len(lats)):\n",
    "    #     if(sus[i]/ffs[i]<0.25):\n",
    "    #         plt.plot(longs[i],lats[i], c='brown',linewidth=0.5)\n",
    "        if(sus[i]<10):\n",
    "            plt.plot(longs[i],lats[i], c='brown',linewidth=4)\n",
    "        elif(sus[i]<15):\n",
    "            plt.plot(longs[i],lats[i], c='orange',linewidth=2)\n",
    "        elif(sus[i]<20):\n",
    "            plt.plot(longs[i],lats[i], c='yellow',linewidth=1)\n",
    "        else:\n",
    "            plt.plot(longs[i],lats[i], c='gray',linewidth=0.5)\n",
    "    #print(i)\n",
    "    #plt.xlim(-77.055,-77.015)\n",
    "    #plt.ylim(38.885,38.91)\n",
    "    plt.axis('on')\n",
    "    # plt.show()\n",
    "    timeStr=getTime()\n",
    "    saveFileName=\"speedProfilesDelhi_\"+timeStr+\".png\"\n",
    "    plt.text(77.20, 28.775, \"Delhi \"+timeStr, fontdict=font)\n",
    "    plt.savefig(os.path.join(my_path, saveFileName),dpi=900)\n",
    "                \n",
    "fun()"
   ]
  },
  {
   "cell_type": "code",
   "execution_count": null,
   "metadata": {},
   "outputs": [],
   "source": [
    "# a1=[]\n",
    "# loc_list_hv=[]\n",
    "# lats=[]\n",
    "# longs=[]\n",
    "# sus=[]\n",
    "# ffs=[]\n",
    "# c=0\n",
    "# for road in roads:\n",
    "#     #for j in range(0,len(shps)):\n",
    "#     myxml = fromstring(str(road))\n",
    "#     fc=5\n",
    "#     for child in myxml:\n",
    "#         #print(child.tag, child.attrib)\n",
    "#         if('fc' in child.attrib):\n",
    "#             fc=int(child.attrib['fc'])\n",
    "#         if('cn' in child.attrib):\n",
    "#             cn=float(child.attrib['cn'])\n",
    "#         if('su' in child.attrib):\n",
    "#             su=float(child.attrib['su'])\n",
    "#         if('ff' in child.attrib):\n",
    "#             ff=float(child.attrib['ff'])\n",
    "#     if((fc<=2) and (cn>=0.7)):\n",
    "#         shps=road.find_all(\"shp\")\n",
    "#         for j in range(0,len(shps)):\n",
    "#             latlong=shps[j].text.replace(',',' ').split()\n",
    "#             #loc_list=[]\n",
    "#             la=[]\n",
    "#             lo=[]\n",
    "#             su1=[]\n",
    "#             ff1=[]\n",
    "            \n",
    "#             for i in range(0,int(len(latlong)/2)):\n",
    "#                 loc_list_hv.append([float(latlong[2*i]),float(latlong[2*i+1]),float(su),float(ff)])\n",
    "#                 la.append(float(latlong[2*i]))\n",
    "#                 lo.append(float(latlong[2*i+1]))\n",
    "#                 su1.append(float(su))\n",
    "#                 ff1.append(float(ff))\n",
    "#             lats.append(la)\n",
    "#             longs.append(lo)\n",
    "#             sus.append(np.mean(su1))\n",
    "#             ffs.append(np.mean(ff1))"
   ]
  },
  {
   "cell_type": "code",
   "execution_count": null,
   "metadata": {},
   "outputs": [],
   "source": [
    "# fig=plt.figure()\n",
    "# # plt.style.use('dark_background')\n",
    "# plt.rcParams['axes.facecolor'] = 'black'\n",
    "# #plt.plot(np.linspace(0,10,10),np.linspace(0,10,10))\n",
    "# plt.grid(False)\n",
    "# for i in range(0,len(lats)):\n",
    "# #     if(sus[i]/ffs[i]<0.25):\n",
    "# #         plt.plot(longs[i],lats[i], c='brown',linewidth=0.5)\n",
    "#     if(sus[i]<30):\n",
    "#         plt.plot(longs[i],lats[i], c='brown',linewidth=0.5)\n",
    "# #     elif(sus[i]/ffs[i]<0.5):\n",
    "# #         plt.plot(longs[i],lats[i], c='red',linewidth=0.5)\n",
    "# #     elif(sus[i]/ffs[i]<0.75):\n",
    "# #         plt.plot(longs[i],lats[i], c='yellow',linewidth=0.5)\n",
    "#     else:\n",
    "#         plt.plot(longs[i],lats[i], c='green',linewidth=0.5)\n",
    "#     #print(i)\n",
    "# #plt.xlim(-77.055,-77.015)\n",
    "# #plt.ylim(38.885,38.91)\n",
    "# plt.axis('off')\n",
    "# # plt.show()\n",
    "# plt.savefig('books_read.png')"
   ]
  },
  {
   "cell_type": "code",
   "execution_count": null,
   "metadata": {},
   "outputs": [],
   "source": [
    "# while 1:\n",
    "#     fun()\n",
    "#     dt = datetime.now() + timedelta(hours=1)\n",
    "#     dt = dt.replace(minute=1)\n",
    "#     while datetime.now() < dt:\n",
    "#         time.sleep(1)"
   ]
  },
  {
   "cell_type": "code",
   "execution_count": null,
   "metadata": {},
   "outputs": [],
   "source": [
    "import sys\n",
    "!{sys.executable} -m pip install schedule"
   ]
  },
  {
   "cell_type": "code",
   "execution_count": null,
   "metadata": {},
   "outputs": [],
   "source": [
    "import schedule\n",
    "import time\n",
    "schedule.every(15).minutes.do(fun)\n",
    "while True:\n",
    "    schedule.run_pending()\n",
    "    time.sleep(1)"
   ]
  },
  {
   "cell_type": "code",
   "execution_count": null,
   "metadata": {},
   "outputs": [],
   "source": []
  },
  {
   "cell_type": "code",
   "execution_count": null,
   "metadata": {},
   "outputs": [],
   "source": []
  },
  {
   "cell_type": "code",
   "execution_count": null,
   "metadata": {},
   "outputs": [],
   "source": []
  },
  {
   "cell_type": "code",
   "execution_count": null,
   "metadata": {},
   "outputs": [],
   "source": []
  },
  {
   "cell_type": "code",
   "execution_count": null,
   "metadata": {},
   "outputs": [],
   "source": []
  },
  {
   "cell_type": "code",
   "execution_count": null,
   "metadata": {},
   "outputs": [],
   "source": []
  },
  {
   "cell_type": "code",
   "execution_count": null,
   "metadata": {},
   "outputs": [],
   "source": []
  },
  {
   "cell_type": "code",
   "execution_count": null,
   "metadata": {},
   "outputs": [],
   "source": []
  },
  {
   "cell_type": "code",
   "execution_count": null,
   "metadata": {},
   "outputs": [],
   "source": []
  },
  {
   "cell_type": "code",
   "execution_count": null,
   "metadata": {},
   "outputs": [],
   "source": []
  },
  {
   "cell_type": "code",
   "execution_count": null,
   "metadata": {},
   "outputs": [],
   "source": []
  },
  {
   "cell_type": "code",
   "execution_count": null,
   "metadata": {},
   "outputs": [],
   "source": []
  },
  {
   "cell_type": "code",
   "execution_count": null,
   "metadata": {},
   "outputs": [],
   "source": []
  },
  {
   "cell_type": "code",
   "execution_count": null,
   "metadata": {},
   "outputs": [],
   "source": []
  },
  {
   "cell_type": "code",
   "execution_count": null,
   "metadata": {},
   "outputs": [],
   "source": []
  },
  {
   "cell_type": "code",
   "execution_count": null,
   "metadata": {},
   "outputs": [],
   "source": []
  },
  {
   "cell_type": "code",
   "execution_count": null,
   "metadata": {},
   "outputs": [],
   "source": []
  },
  {
   "cell_type": "code",
   "execution_count": null,
   "metadata": {},
   "outputs": [],
   "source": []
  }
 ],
 "metadata": {
  "kernelspec": {
   "display_name": "Python 3",
   "language": "python",
   "name": "python3"
  },
  "language_info": {
   "codemirror_mode": {
    "name": "ipython",
    "version": 3
   },
   "file_extension": ".py",
   "mimetype": "text/x-python",
   "name": "python",
   "nbconvert_exporter": "python",
   "pygments_lexer": "ipython3",
   "version": "3.7.6"
  }
 },
 "nbformat": 4,
 "nbformat_minor": 2
}
